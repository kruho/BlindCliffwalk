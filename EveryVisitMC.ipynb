{
 "cells": [
  {
   "cell_type": "markdown",
   "metadata": {},
   "source": [
    "- n x n マス空間に幅１マスの道があり、それ以外のマスは落とし穴。\n",
    "- 道は右下に向かって伸びている。\n",
    "- ゴールはnマス先にある。\n",
    "- エージェントはスタート地点から①下に移動　②右に移動　のどちらかを選んで行動する。\n",
    "- ゴールすると+1の報酬が得られる。途中で落とし穴に落ちるとスタート地点からやり直し。"
   ]
  },
  {
   "cell_type": "code",
   "execution_count": 1,
   "metadata": {},
   "outputs": [],
   "source": [
    "import numpy as np\n",
    "\n",
    "def random_action():\n",
    "    '''\n",
    "    ランダムな行動\n",
    "      [1,0] : 下に進む\n",
    "      [0,1] : 右に進む\n",
    "    '''\n",
    "    rand = np.random.random(1)\n",
    "    return np.eye(2)[int(np.floor(rand+0.5))].astype(int)\n",
    "\n",
    "def transition(s,a):\n",
    "    return s + a"
   ]
  },
  {
   "cell_type": "code",
   "execution_count": 24,
   "metadata": {
    "collapsed": true
   },
   "outputs": [],
   "source": [
    "# ゴールまでの距離\n",
    "#nb_step = 15\n",
    "nb_step = 20\n",
    "\n",
    "# ゴールの数\n",
    "#nb_goals = 2\n",
    "nb_goals = 3"
   ]
  },
  {
   "cell_type": "code",
   "execution_count": 38,
   "metadata": {},
   "outputs": [
    {
     "data": {
      "text/plain": [
       "array([[2, 1, 1, 1, 0, 0, 0, 0, 0, 0, 0, 0, 0, 0, 0, 0, 0, 0, 0, 0],\n",
       "       [1, 1, 1, 1, 0, 0, 0, 0, 0, 0, 0, 0, 0, 0, 0, 0, 0, 0, 0, 0],\n",
       "       [1, 1, 1, 1, 0, 0, 0, 0, 0, 0, 0, 0, 0, 0, 0, 0, 0, 0, 0, 0],\n",
       "       [0, 1, 1, 1, 1, 1, 1, 0, 0, 0, 0, 0, 0, 0, 0, 0, 0, 0, 0, 0],\n",
       "       [0, 1, 0, 1, 1, 1, 1, 1, 1, 1, 0, 0, 0, 0, 0, 0, 0, 0, 0, 0],\n",
       "       [0, 1, 0, 0, 0, 0, 1, 1, 1, 1, 1, 1, 0, 0, 0, 0, 0, 0, 0, 0],\n",
       "       [0, 1, 0, 0, 0, 0, 0, 0, 1, 0, 0, 1, 1, 1, 3, 0, 0, 0, 0, 0],\n",
       "       [0, 1, 0, 0, 0, 0, 0, 0, 1, 0, 0, 0, 0, 0, 0, 0, 0, 0, 0, 0],\n",
       "       [0, 1, 1, 0, 0, 0, 0, 0, 1, 0, 0, 0, 0, 0, 0, 0, 0, 0, 0, 0],\n",
       "       [0, 0, 1, 1, 0, 0, 0, 0, 1, 1, 1, 3, 0, 0, 0, 0, 0, 0, 0, 0],\n",
       "       [0, 0, 0, 1, 1, 0, 0, 0, 0, 0, 0, 0, 0, 0, 0, 0, 0, 0, 0, 0],\n",
       "       [0, 0, 0, 0, 1, 0, 0, 0, 0, 0, 0, 0, 0, 0, 0, 0, 0, 0, 0, 0],\n",
       "       [0, 0, 0, 0, 1, 0, 0, 0, 0, 0, 0, 0, 0, 0, 0, 0, 0, 0, 0, 0],\n",
       "       [0, 0, 0, 0, 1, 0, 0, 0, 0, 0, 0, 0, 0, 0, 0, 0, 0, 0, 0, 0],\n",
       "       [0, 0, 0, 0, 1, 0, 0, 0, 0, 0, 0, 0, 0, 0, 0, 0, 0, 0, 0, 0],\n",
       "       [0, 0, 0, 0, 1, 0, 0, 0, 0, 0, 0, 0, 0, 0, 0, 0, 0, 0, 0, 0],\n",
       "       [0, 0, 0, 0, 3, 0, 0, 0, 0, 0, 0, 0, 0, 0, 0, 0, 0, 0, 0, 0],\n",
       "       [0, 0, 0, 0, 0, 0, 0, 0, 0, 0, 0, 0, 0, 0, 0, 0, 0, 0, 0, 0],\n",
       "       [0, 0, 0, 0, 0, 0, 0, 0, 0, 0, 0, 0, 0, 0, 0, 0, 0, 0, 0, 0],\n",
       "       [0, 0, 0, 0, 0, 0, 0, 0, 0, 0, 0, 0, 0, 0, 0, 0, 0, 0, 0, 0]])"
      ]
     },
     "execution_count": 38,
     "metadata": {},
     "output_type": "execute_result"
    }
   ],
   "source": [
    "# 答えの初期化\n",
    "fall_marker = 0\n",
    "ground_truth = np.ones((nb_step, nb_step), dtype=int)\n",
    "ground_truth = ground_truth * fall_marker\n",
    "\n",
    "for _ in range(nb_goals):\n",
    "    # 初期状態は座標(0,0)とする。\n",
    "    state = np.zeros(2, dtype=int)\n",
    "\n",
    "    # 開始位置の値は2にする（色分けのため）。\n",
    "    start_marker = 2\n",
    "    ground_truth[state[0], state[1]] = start_marker\n",
    "\n",
    "    # ゴールまでの道中を1にする。\n",
    "    ontheway_marker = 1\n",
    "    for i in range(nb_step):\n",
    "#        print(i, state)\n",
    "        state = transition(state, random_action())\n",
    "        ground_truth[state[0], state[1]] = ontheway_marker\n",
    "\n",
    "    # ゴールの値は3。state=3で報酬が+1される。\n",
    "    goal_marker = 3\n",
    "    ground_truth[state[0], state[1]] = goal_marker\n",
    "\n",
    "ground_truth"
   ]
  },
  {
   "cell_type": "code",
   "execution_count": 39,
   "metadata": {},
   "outputs": [
    {
     "data": {
      "text/plain": [
       "<matplotlib.image.AxesImage at 0x10f22c6d8>"
      ]
     },
     "execution_count": 39,
     "metadata": {},
     "output_type": "execute_result"
    },
    {
     "data": {
      "image/png": "[encoded data removed]",
      "text/plain": [
       "<matplotlib.figure.Figure at 0x105e60518>"
      ]
     },
     "metadata": {},
     "output_type": "display_data"
    }
   ],
   "source": [
    "import matplotlib.pyplot as plt\n",
    "%matplotlib inline\n",
    "\n",
    "plt.imshow(ground_truth, interpolation='nearest')"
   ]
  },
  {
   "cell_type": "markdown",
   "metadata": {},
   "source": [
    "# value functionをEvery-Visit MC法で学習する"
   ]
  },
  {
   "cell_type": "code",
   "execution_count": 40,
   "metadata": {
    "collapsed": true
   },
   "outputs": [],
   "source": [
    "# モンテカルロサンプリングの数\n",
    "mc_step = 300000\n",
    "\n",
    "# 最大更新回数\n",
    "max_update = 30\n",
    "\n",
    "# 割引率\n",
    "gamma = 1. - 1. / float(nb_step)\n",
    "\n",
    "# 学習率\n",
    "learning_rate = 0.25\n",
    "\n",
    "# 考えうる状態の数はground_truthの大きさと同じ（もう少し小さいが、面倒なので同じとする）\n",
    "value_table = np.zeros_like(ground_truth, dtype=float)"
   ]
  },
  {
   "cell_type": "code",
   "execution_count": 41,
   "metadata": {
    "collapsed": true
   },
   "outputs": [],
   "source": [
    "def get_reward(ground_truth, state, ontheway, goal):\n",
    "    if ground_truth[state[0], state[1]]==ontheway:\n",
    "        # 道中の報酬は0\n",
    "        reward = 0\n",
    "    elif ground_truth[state[0], state[1]]==goal:\n",
    "        # ゴールにたどり着いたら報酬は+1\n",
    "        reward = 1\n",
    "    else:\n",
    "        # 落とし穴に落ちたら報酬は-1（使わない。落ちたことを判定するためにreward=-1にしただけ）\n",
    "        reward = -1\n",
    "    return reward"
   ]
  },
  {
   "cell_type": "code",
   "execution_count": 44,
   "metadata": {},
   "outputs": [
    {
     "name": "stderr",
     "output_type": "stream",
     "text": [
      " 23%|██▎       | 67819/300000 [00:03<00:12, 17993.12it/s]\n"
     ]
    }
   ],
   "source": [
    "from tqdm import tqdm\n",
    "\n",
    "stacked_value_table = []\n",
    "isSuccessed = False\n",
    "\n",
    "value_table = np.zeros_like(value_table) # state valueの初期化（念のためループ直前でも初期化する）\n",
    "try:\n",
    "    for i in tqdm(range(mc_step)):\n",
    "        # 状態の初期化\n",
    "        state = np.zeros(2, dtype=int)\n",
    "\n",
    "        reward = 0\n",
    "        stacked_states = []\n",
    "        stacked_rewards = []\n",
    "        while reward >= 0:\n",
    "            # ランダムな行動を取る。\n",
    "            action = random_action()\n",
    "\n",
    "            # 状態の遷移（マス目の移動）\n",
    "            state = transition(state, action)\n",
    "\n",
    "            # 報酬の計算\n",
    "            reward = get_reward(ground_truth, state, ontheway_marker, goal_marker)\n",
    "            stacked_states.append(state)\n",
    "            stacked_rewards.append(reward)\n",
    "\n",
    "            if reward>0:\n",
    "                '''\n",
    "                ゴールまでたどり着いたら道中のstate valueを更新する。\n",
    "                '''\n",
    "                isSuccessed = True\n",
    "                R = 0\n",
    "                for s,r in zip(reversed(stacked_states), reversed(stacked_rewards)):\n",
    "                    # ゴールから遠いstateには割引されたrewardを与える。\n",
    "                    R = r + gamma * R\n",
    "\n",
    "                    # state valueを更新する。\n",
    "                    V = value_table[s[0], s[1]]\n",
    "                    value_table[s[0], s[1]] = V + learning_rate * (R - V)\n",
    "\n",
    "                # state valueが更新されるたびにその値を保存しておく（学習過程の可視化のため）。\n",
    "                # なお、np.copy()を使わないとリスト中のすべてのvalue_tableが同じ値になってしまう。\n",
    "                stacked_value_table.append(np.copy(value_table))\n",
    "                \n",
    "        if len(stacked_value_table)==max_update:\n",
    "            raise Exception\n",
    "            \n",
    "except Exception:\n",
    "    pass"
   ]
  },
  {
   "cell_type": "markdown",
   "metadata": {},
   "source": [
    "# 学習過程の可視化\n",
    "- Every-Visit MC法ではゴールまでたどり着くたびにvalue functionが更新される。その過程を見る。"
   ]
  },
  {
   "cell_type": "code",
   "execution_count": 45,
   "metadata": {},
   "outputs": [
    {
     "data": {
      "image/png": "[encoded data removed]",
      "text/plain": [
       "<matplotlib.figure.Figure at 0x110cb6a20>"
      ]
     },
     "metadata": {},
     "output_type": "display_data"
    }
   ],
   "source": [
    "if isSuccessed:\n",
    "    nb = 0\n",
    "    plt.figure(figsize=(10,10*int(len(stacked_value_table)+1)/5.))\n",
    "    for v in stacked_value_table:\n",
    "        nb += 1\n",
    "        plt.subplot(int(len(stacked_value_table)+1),5,nb)\n",
    "        plt.imshow(v, interpolation='nearest')\n",
    "        plt.clim(0,1)"
   ]
  },
  {
   "cell_type": "code",
   "execution_count": null,
   "metadata": {
    "collapsed": true
   },
   "outputs": [],
   "source": []
  }
 ],
 "metadata": {
  "kernelspec": {
   "display_name": "Python [conda env:dl]",
   "language": "python",
   "name": "conda-env-dl-py"
  },
  "language_info": {
   "codemirror_mode": {
    "name": "ipython",
    "version": 3
   },
   "file_extension": ".py",
   "mimetype": "text/x-python",
   "name": "python",
   "nbconvert_exporter": "python",
   "pygments_lexer": "ipython3",
   "version": "3.6.3"
  }
 },
 "nbformat": 4,
 "nbformat_minor": 2
}
