{
 "cells": [
  {
   "cell_type": "markdown",
   "metadata": {},
   "source": [
    "# 環境の設定"
   ]
  },
  {
   "cell_type": "code",
   "execution_count": 1,
   "metadata": {
    "collapsed": true
   },
   "outputs": [],
   "source": [
    "from blindcliftwalk import BlindCliftwalk\n",
    "\n",
    "# ゴールまでの距離\n",
    "nb_step = 20\n",
    "#nb_step = 10\n",
    "\n",
    "# ゴールの数\n",
    "nb_goals = 3\n",
    "#nb_goals = 1\n",
    "\n",
    "env = BlindCliftwalk(nb_step, nb_goals)"
   ]
  },
  {
   "cell_type": "code",
   "execution_count": 2,
   "metadata": {},
   "outputs": [
    {
     "data": {
      "text/plain": [
       "array([[2, 1, 1, 1, 1, 1, 0, 0, 0, 0, 0, 0, 0, 0, 0, 0, 0, 0, 0, 0],\n",
       "       [1, 0, 0, 1, 1, 1, 1, 0, 0, 0, 0, 0, 0, 0, 0, 0, 0, 0, 0, 0],\n",
       "       [1, 0, 0, 0, 0, 1, 1, 1, 0, 0, 0, 0, 0, 0, 0, 0, 0, 0, 0, 0],\n",
       "       [1, 0, 0, 0, 0, 1, 0, 1, 0, 0, 0, 0, 0, 0, 0, 0, 0, 0, 0, 0],\n",
       "       [1, 0, 0, 0, 0, 1, 1, 1, 1, 1, 0, 0, 0, 0, 0, 0, 0, 0, 0, 0],\n",
       "       [1, 1, 0, 0, 0, 0, 0, 0, 1, 1, 1, 0, 0, 0, 0, 0, 0, 0, 0, 0],\n",
       "       [0, 1, 1, 1, 0, 0, 0, 0, 1, 1, 1, 1, 1, 1, 0, 0, 0, 0, 0, 0],\n",
       "       [0, 0, 0, 1, 0, 0, 0, 0, 0, 1, 0, 0, 0, 3, 0, 0, 0, 0, 0, 0],\n",
       "       [0, 0, 0, 1, 0, 0, 0, 0, 0, 1, 1, 0, 0, 0, 0, 0, 0, 0, 0, 0],\n",
       "       [0, 0, 0, 1, 0, 0, 0, 0, 0, 0, 1, 0, 0, 0, 0, 0, 0, 0, 0, 0],\n",
       "       [0, 0, 0, 1, 1, 1, 1, 0, 0, 0, 3, 0, 0, 0, 0, 0, 0, 0, 0, 0],\n",
       "       [0, 0, 0, 0, 0, 0, 1, 1, 1, 0, 0, 0, 0, 0, 0, 0, 0, 0, 0, 0],\n",
       "       [0, 0, 0, 0, 0, 0, 0, 0, 3, 0, 0, 0, 0, 0, 0, 0, 0, 0, 0, 0],\n",
       "       [0, 0, 0, 0, 0, 0, 0, 0, 0, 0, 0, 0, 0, 0, 0, 0, 0, 0, 0, 0],\n",
       "       [0, 0, 0, 0, 0, 0, 0, 0, 0, 0, 0, 0, 0, 0, 0, 0, 0, 0, 0, 0],\n",
       "       [0, 0, 0, 0, 0, 0, 0, 0, 0, 0, 0, 0, 0, 0, 0, 0, 0, 0, 0, 0],\n",
       "       [0, 0, 0, 0, 0, 0, 0, 0, 0, 0, 0, 0, 0, 0, 0, 0, 0, 0, 0, 0],\n",
       "       [0, 0, 0, 0, 0, 0, 0, 0, 0, 0, 0, 0, 0, 0, 0, 0, 0, 0, 0, 0],\n",
       "       [0, 0, 0, 0, 0, 0, 0, 0, 0, 0, 0, 0, 0, 0, 0, 0, 0, 0, 0, 0],\n",
       "       [0, 0, 0, 0, 0, 0, 0, 0, 0, 0, 0, 0, 0, 0, 0, 0, 0, 0, 0, 0]])"
      ]
     },
     "execution_count": 2,
     "metadata": {},
     "output_type": "execute_result"
    }
   ],
   "source": [
    "import numpy as np\n",
    "\n",
    "np.random.seed(seed=50)\n",
    "env.set_ground_truth()\n",
    "env.ground_truth"
   ]
  },
  {
   "cell_type": "code",
   "execution_count": 3,
   "metadata": {},
   "outputs": [
    {
     "data": {
      "text/plain": [
       "<matplotlib.image.AxesImage at 0x10a921ac8>"
      ]
     },
     "execution_count": 3,
     "metadata": {},
     "output_type": "execute_result"
    },
    {
     "data": {
      "image/png": "[encoded data removed]",
      "text/plain": [
       "<matplotlib.figure.Figure at 0x109912cf8>"
      ]
     },
     "metadata": {},
     "output_type": "display_data"
    }
   ],
   "source": [
    "import matplotlib.pyplot as plt\n",
    "%matplotlib inline\n",
    "\n",
    "plt.imshow(env.ground_truth, 'rainbow', interpolation='nearest')\n",
    "#plt.savefig('ground_truth.png')"
   ]
  },
  {
   "cell_type": "markdown",
   "metadata": {},
   "source": [
    "# value functionをTD学習で学習する\n",
    "- [prioritized experience replay](https://arxiv.org/abs/1511.05952)を使用。"
   ]
  },
  {
   "cell_type": "code",
   "execution_count": 4,
   "metadata": {
    "collapsed": true
   },
   "outputs": [],
   "source": [
    "#  state value更新回数\n",
    "#mc_step = 300000\n",
    "mc_step = 100000\n",
    "\n",
    "# 割引率\n",
    "gamma = 1. - 1. / float(nb_step)\n",
    "\n",
    "# 学習率\n",
    "learning_rate = 0.25\n",
    "\n",
    "# 考えうる状態の数はground_truthの大きさと同じ（もう少し小さいが、面倒なので同じとする）\n",
    "value_table = np.zeros_like(env.ground_truth, dtype=float)\n",
    "\n",
    "# ゴール到達後のstate valueの保存間隔\n",
    "#save_interval = 10000\n",
    "save_interval = 1000\n",
    "\n",
    "# Prioritized Experience Replayのハイパーパラメータ。α=0でランダムサンプリング\n",
    "alpha = 0.3\n",
    "#alpha = 0.\n",
    "beta = 1.\n",
    "\n",
    "# ε-greedyのハイパーパラメータ\n",
    "epsilon = 0.3"
   ]
  },
  {
   "cell_type": "code",
   "execution_count": 5,
   "metadata": {
    "collapsed": true
   },
   "outputs": [],
   "source": [
    "def gumbel_sampling(prob):\n",
    "    rand = np.random.random(len(prob))\n",
    "    g = -np.log(-np.log(rand))\n",
    "    return np.argmax(g+np.log(prob))\n",
    "#    return np.argmax(prob)"
   ]
  },
  {
   "cell_type": "code",
   "execution_count": 6,
   "metadata": {},
   "outputs": [
    {
     "data": {
      "text/plain": [
       "<matplotlib.axes._subplots.AxesSubplot at 0x111b5c390>"
      ]
     },
     "execution_count": 6,
     "metadata": {},
     "output_type": "execute_result"
    },
    {
     "data": {
      "image/png": "[encoded data removed]",
      "text/plain": [
       "<matplotlib.figure.Figure at 0x109578c88>"
      ]
     },
     "metadata": {},
     "output_type": "display_data"
    }
   ],
   "source": [
    "prob = [0.5, 0.3, 0.2]\n",
    "hist=[]\n",
    "for _ in range(1000):\n",
    "    hist.append(gumbel_sampling(prob))\n",
    "\n",
    "import seaborn as sns\n",
    "sns.distplot(hist, kde=False)"
   ]
  },
  {
   "cell_type": "code",
   "execution_count": null,
   "metadata": {
    "collapsed": true
   },
   "outputs": [],
   "source": [
    "def trans_prob(priorities, alpha):\n",
    "    foo = np.array(priorities)**alpha\n",
    "    return foo / np.array(foo).sum()"
   ]
  },
  {
   "cell_type": "code",
   "execution_count": null,
   "metadata": {},
   "outputs": [
    {
     "name": "stderr",
     "output_type": "stream",
     "text": [
      " 37%|███▋      | 36733/100000 [00:10<00:18, 3393.54it/s]"
     ]
    }
   ],
   "source": [
    "from tqdm import tqdm\n",
    "\n",
    "stacked_value_table = []\n",
    "isSuccessed = False\n",
    "\n",
    "value_table = np.zeros_like(value_table) # state valueの初期化（念のためループ直前でも初期化する）\n",
    "experience = []\n",
    "priorities = []\n",
    "#eps = np.finfo(float).eps\n",
    "eps = 1e-5\n",
    "try:\n",
    "    count = 0\n",
    "    for i in tqdm(range(mc_step)):\n",
    "        # 状態の初期化\n",
    "        current_state  = np.zeros(2, dtype=int)\n",
    "\n",
    "        status = 0\n",
    "        while status >= 0:\n",
    "            # state valueが最大となる行動を取る（まだ遷移させない）。\n",
    "            if np.random.random(1) > epsilon:\n",
    "                action_candidates = [[0,1], [1,0]]\n",
    "                next_state_1, _, _ = env.do_action(current_state, action_candidates[0])\n",
    "                next_state_2, _, _ = env.do_action(current_state, action_candidates[1])\n",
    "                v1 = value_table[next_state_1[0], next_state_1[1]]\n",
    "                v2 = value_table[next_state_2[0], next_state_2[1]]\n",
    "                v_candidates = np.array([v1,v2])\n",
    "                action = action_candidates[v_candidates.argmax()]\n",
    "            else:\n",
    "                action = env.random_action()\n",
    "                \n",
    "            # 行動に対する報酬と遷移後の状態の計算\n",
    "            next_state, reward, status = env.do_action(current_state, action)\n",
    "            \n",
    "            if status==1:\n",
    "                isSuccessed = True\n",
    "\n",
    "            if status>=0:\n",
    "                if False:\n",
    "                    '''\n",
    "                    原著論文ではとりあえず最大priorityで遷移を経験に保存しているが、\n",
    "                    これだと最初にゴールに到達した経験も過去の経験と同じpriorityになってしまう。\n",
    "                    そこで、ここではTD誤差を計算してTD誤差から計算されるpriorityを保存する。\n",
    "                    一度でもこの経験が再生されればpriorityは更新される。\n",
    "                    '''\n",
    "                    V_1 = value_table[current_state[0], current_state[1]]\n",
    "                    V_2 = value_table[next_state[0], next_state[1]]\n",
    "                    replayed_td_error = reward + gamma * V_2 - V_1\n",
    "                    priority = abs(replayed_td_error) + eps\n",
    "                else:\n",
    "                    try:\n",
    "                        priority = np.array(priorities).max()\n",
    "                    except:\n",
    "                        priority = 1.\n",
    "                experience.append((current_state, action, next_state, reward))\n",
    "                priorities.append(priority)\n",
    "                \n",
    "                # 経験が100個以上溜まったら、priorityの低い経験から削除していく。\n",
    "                if len(priorities)>100:\n",
    "                    del_idx = np.array(priorities).argmin()\n",
    "                    experience.pop(del_idx)\n",
    "                    priorities.pop(del_idx)\n",
    "\n",
    "                # experience replay: 経験の中からpriorityの高い遷移をサンプリングして、state valueの更新に使う。\n",
    "                prob = trans_prob(priorities, alpha)\n",
    "                replay_idx = gumbel_sampling(prob)\n",
    "                s1, _, s2, r = experience[replay_idx]\n",
    "                V_1 = value_table[s1[0], s1[1]]\n",
    "                V_2 = value_table[s2[0], s2[1]]\n",
    "                replayed_td_error = r + gamma * V_2 - V_1\n",
    "#                weight = (1./prob[replay_idx]/float(len(priorities)))**beta\n",
    "                weight = 1.\n",
    "                value_table[s1[0], s1[1]] = V_1 + learning_rate * weight * replayed_td_error\n",
    "\n",
    "                #一度再生された経験のpriorityを更新する。\n",
    "                V_1 = value_table[s1[0], s1[1]]\n",
    "                V_2 = value_table[s2[0], s2[1]]\n",
    "                post_td_error = r + gamma * V_2 - V_1\n",
    "#                priorities[replay_idx] = abs(post_td_error) + eps\n",
    "                priorities[replay_idx] = abs(replayed_td_error) + eps\n",
    "        \n",
    "                # 状態の遷移（マス目の移動）\n",
    "                current_state = next_state\n",
    "                \n",
    "                if isSuccessed:\n",
    "#                if True:\n",
    "                    count += 1\n",
    "                    if count==save_interval:\n",
    "                        stacked_value_table.append(np.copy(value_table))\n",
    "                        count = 0\n",
    "                    \n",
    "except Exception:\n",
    "    pass"
   ]
  },
  {
   "cell_type": "code",
   "execution_count": null,
   "metadata": {},
   "outputs": [],
   "source": [
    "experience"
   ]
  },
  {
   "cell_type": "code",
   "execution_count": null,
   "metadata": {},
   "outputs": [],
   "source": [
    "priorities"
   ]
  },
  {
   "cell_type": "markdown",
   "metadata": {},
   "source": [
    "# 学習過程の可視化\n",
    "- TD学習では一度ゴールまでたどり着くとその後常にstate valueが更新される。"
   ]
  },
  {
   "cell_type": "code",
   "execution_count": null,
   "metadata": {},
   "outputs": [],
   "source": [
    "plt.imshow(value_table, interpolation='nearest')\n",
    "plt.clim(0,1)"
   ]
  },
  {
   "cell_type": "code",
   "execution_count": null,
   "metadata": {},
   "outputs": [],
   "source": [
    "len(stacked_value_table)"
   ]
  },
  {
   "cell_type": "code",
   "execution_count": null,
   "metadata": {
    "scrolled": true
   },
   "outputs": [],
   "source": [
    "if isSuccessed:\n",
    "    nb_show = 100\n",
    "    nb = 0\n",
    "    plt.figure(figsize=(10,10*int(len(stacked_value_table[:nb_show])+1)/5.))\n",
    "    for v in stacked_value_table[:nb_show]:\n",
    "        nb += 1\n",
    "        plt.subplot(int(len(stacked_value_table[:nb_show])+1),5,nb)\n",
    "        plt.imshow(v, interpolation='nearest')\n",
    "        plt.clim(0,1)"
   ]
  },
  {
   "cell_type": "code",
   "execution_count": null,
   "metadata": {},
   "outputs": [],
   "source": [
    "for i,v in enumerate(stacked_value_table[:200]):\n",
    "    plt.imshow(v, interpolation='nearest')\n",
    "    plt.clim(0,1)\n",
    "    plt.title('# of action '+str(i*save_interval).zfill(3))\n",
    "    plt.savefig('TD_PER_iter_'+str(i).zfill(4)+'.png')\n",
    "#    plt.savefig('TD_RandomER_iter_'+str(i).zfill(4)+'.png')\n",
    "    plt.show()"
   ]
  },
  {
   "cell_type": "code",
   "execution_count": null,
   "metadata": {
    "collapsed": true
   },
   "outputs": [],
   "source": []
  }
 ],
 "metadata": {
  "kernelspec": {
   "display_name": "Python [conda env:dl]",
   "language": "python",
   "name": "conda-env-dl-py"
  },
  "language_info": {
   "codemirror_mode": {
    "name": "ipython",
    "version": 3
   },
   "file_extension": ".py",
   "mimetype": "text/x-python",
   "name": "python",
   "nbconvert_exporter": "python",
   "pygments_lexer": "ipython3",
   "version": "3.6.3"
  }
 },
 "nbformat": 4,
 "nbformat_minor": 2
}
