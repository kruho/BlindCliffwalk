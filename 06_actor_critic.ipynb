{
 "cells": [
  {
   "cell_type": "markdown",
   "metadata": {},
   "source": [
    "# 環境の設定"
   ]
  },
  {
   "cell_type": "code",
   "execution_count": 1,
   "metadata": {},
   "outputs": [],
   "source": [
    "from blindcliftwalk import BlindCliftwalk\n",
    "\n",
    "# ゴールまでの距離\n",
    "nb_step = 20\n",
    "#nb_step = 10\n",
    "\n",
    "# ゴールの数\n",
    "nb_goals = 3\n",
    "#nb_goals = 1\n",
    "\n",
    "env = BlindCliftwalk(nb_step, nb_goals)"
   ]
  },
  {
   "cell_type": "code",
   "execution_count": 2,
   "metadata": {},
   "outputs": [
    {
     "data": {
      "text/plain": [
       "array([[2, 1, 1, 1, 1, 1, 0, 0, 0, 0, 0, 0, 0, 0, 0, 0, 0, 0, 0, 0],\n",
       "       [1, 0, 0, 1, 1, 1, 1, 0, 0, 0, 0, 0, 0, 0, 0, 0, 0, 0, 0, 0],\n",
       "       [1, 0, 0, 0, 0, 1, 1, 1, 0, 0, 0, 0, 0, 0, 0, 0, 0, 0, 0, 0],\n",
       "       [1, 0, 0, 0, 0, 1, 0, 1, 0, 0, 0, 0, 0, 0, 0, 0, 0, 0, 0, 0],\n",
       "       [1, 0, 0, 0, 0, 1, 1, 1, 1, 1, 0, 0, 0, 0, 0, 0, 0, 0, 0, 0],\n",
       "       [1, 1, 0, 0, 0, 0, 0, 0, 1, 1, 1, 0, 0, 0, 0, 0, 0, 0, 0, 0],\n",
       "       [0, 1, 1, 1, 0, 0, 0, 0, 1, 1, 1, 1, 1, 1, 0, 0, 0, 0, 0, 0],\n",
       "       [0, 0, 0, 1, 0, 0, 0, 0, 0, 1, 0, 0, 0, 3, 0, 0, 0, 0, 0, 0],\n",
       "       [0, 0, 0, 1, 0, 0, 0, 0, 0, 1, 1, 0, 0, 0, 0, 0, 0, 0, 0, 0],\n",
       "       [0, 0, 0, 1, 0, 0, 0, 0, 0, 0, 1, 0, 0, 0, 0, 0, 0, 0, 0, 0],\n",
       "       [0, 0, 0, 1, 1, 1, 1, 0, 0, 0, 3, 0, 0, 0, 0, 0, 0, 0, 0, 0],\n",
       "       [0, 0, 0, 0, 0, 0, 1, 1, 1, 0, 0, 0, 0, 0, 0, 0, 0, 0, 0, 0],\n",
       "       [0, 0, 0, 0, 0, 0, 0, 0, 3, 0, 0, 0, 0, 0, 0, 0, 0, 0, 0, 0],\n",
       "       [0, 0, 0, 0, 0, 0, 0, 0, 0, 0, 0, 0, 0, 0, 0, 0, 0, 0, 0, 0],\n",
       "       [0, 0, 0, 0, 0, 0, 0, 0, 0, 0, 0, 0, 0, 0, 0, 0, 0, 0, 0, 0],\n",
       "       [0, 0, 0, 0, 0, 0, 0, 0, 0, 0, 0, 0, 0, 0, 0, 0, 0, 0, 0, 0],\n",
       "       [0, 0, 0, 0, 0, 0, 0, 0, 0, 0, 0, 0, 0, 0, 0, 0, 0, 0, 0, 0],\n",
       "       [0, 0, 0, 0, 0, 0, 0, 0, 0, 0, 0, 0, 0, 0, 0, 0, 0, 0, 0, 0],\n",
       "       [0, 0, 0, 0, 0, 0, 0, 0, 0, 0, 0, 0, 0, 0, 0, 0, 0, 0, 0, 0],\n",
       "       [0, 0, 0, 0, 0, 0, 0, 0, 0, 0, 0, 0, 0, 0, 0, 0, 0, 0, 0, 0]])"
      ]
     },
     "execution_count": 2,
     "metadata": {},
     "output_type": "execute_result"
    }
   ],
   "source": [
    "import numpy as np\n",
    "\n",
    "np.random.seed(seed=50)\n",
    "env.set_ground_truth()\n",
    "env.ground_truth"
   ]
  },
  {
   "cell_type": "code",
   "execution_count": 3,
   "metadata": {},
   "outputs": [
    {
     "data": {
      "text/plain": [
       "<matplotlib.image.AxesImage at 0x1075ae518>"
      ]
     },
     "execution_count": 3,
     "metadata": {},
     "output_type": "execute_result"
    },
    {
     "data": {
      "image/png": "[encoded data removed]",
      "text/plain": [
       "<matplotlib.figure.Figure at 0x106590c50>"
      ]
     },
     "metadata": {},
     "output_type": "display_data"
    }
   ],
   "source": [
    "import matplotlib.pyplot as plt\n",
    "%matplotlib inline\n",
    "\n",
    "plt.imshow(env.ground_truth, 'rainbow', interpolation='nearest')\n",
    "#plt.savefig('ground_truth.png')"
   ]
  },
  {
   "cell_type": "markdown",
   "metadata": {},
   "source": [
    "# 方策勾配法（Actor-Critic）で方策を学習する"
   ]
  },
  {
   "cell_type": "markdown",
   "metadata": {},
   "source": [
    "- ニューラルネット型の方策を使用する。"
   ]
  },
  {
   "cell_type": "code",
   "execution_count": 4,
   "metadata": {},
   "outputs": [
    {
     "name": "stderr",
     "output_type": "stream",
     "text": [
      "/Users/ruhokondo/Programming/anaconda3/envs/dl35/lib/python3.5/importlib/_bootstrap.py:222: RuntimeWarning: compiletime version 3.6 of module 'tensorflow.python.framework.fast_tensor_util' does not match runtime version 3.5\n",
      "  return f(*args, **kwds)\n",
      "/Users/ruhokondo/Programming/anaconda3/envs/dl35/lib/python3.5/site-packages/h5py/__init__.py:36: FutureWarning: Conversion of the second argument of issubdtype from `float` to `np.floating` is deprecated. In future, it will be treated as `np.float64 == np.dtype(float).type`.\n",
      "  from ._conv import register_converters as _register_converters\n"
     ]
    }
   ],
   "source": [
    "import tensorflow as tf\n",
    "\n",
    "t_action = tf.placeholder(tf.float32, [None, 2], name='action')\n",
    "t_state = tf.placeholder(tf.float32, [None, 2], name='state')\n",
    "t_reward = tf.placeholder(tf.float32, [None, ], name='reward')\n",
    "\n",
    "#model = 'two_layers'\n",
    "model = 'three_layers'\n",
    "\n",
    "sess = tf.InteractiveSession()\n",
    "#state_scale = 1./20.\n",
    "state_scale = 1.\n",
    "\n",
    "if model=='two_layers':\n",
    "    nb_nodes = 20\n",
    "    \n",
    "    W1 = tf.Variable(tf.random_normal([2, nb_nodes], stddev=np.sqrt(2. / float(2 + nb_nodes))), name='W1')\n",
    "    W2 = tf.Variable(tf.random_normal([nb_nodes, 2], stddev=np.sqrt(2. / float(nb_nodes + 2))), name='W2')\n",
    "    b1 = tf.Variable(tf.random_normal([nb_nodes]), name='b1')\n",
    "    b2 = tf.Variable(tf.random_normal([2]), name='b2')\n",
    "    \n",
    "    h1 = tf.nn.relu(tf.nn.bias_add(tf.matmul(t_state, W1),b1))\n",
    "    t_policy = tf.nn.softmax(tf.nn.bias_add(tf.matmul(h1, W2),b2))\n",
    "#    h1 = tf.nn.relu(tf.contrib.layers.batch_norm(tf.nn.bias_add(tf.matmul(t_state, W1),b1)))\n",
    "#    t_policy = tf.nn.softmax(tf.contrib.layers.batch_norm(tf.nn.bias_add(tf.matmul(h1, W2),b2)))\n",
    "    \n",
    "elif model=='three_layers':\n",
    "    nb_nodes1 = 20\n",
    "    nb_nodes2 = 20\n",
    "    \n",
    "    W1 = tf.Variable(tf.random_normal([2, nb_nodes1], stddev=np.sqrt(2. / float(2 + nb_nodes1))), name='W1')\n",
    "    W2 = tf.Variable(tf.random_normal([nb_nodes1, nb_nodes2], stddev=np.sqrt(2. / float(nb_nodes1 + nb_nodes2))), name='W2')\n",
    "    W3 = tf.Variable(tf.random_normal([nb_nodes2, 2], stddev=np.sqrt(2. / float(nb_nodes2 + 2))), name='W3')\n",
    "    b1 = tf.Variable(tf.random_normal([nb_nodes1]), name='b1')\n",
    "    b2 = tf.Variable(tf.random_normal([nb_nodes2]), name='b2')\n",
    "    b3 = tf.Variable(tf.random_normal([2]), name='b3')\n",
    "    \n",
    "    h1 = tf.nn.relu(tf.nn.bias_add(tf.matmul(t_state, W1),b1))\n",
    "    h2 = tf.nn.relu(tf.nn.bias_add(tf.matmul(h1, W2),b2))\n",
    "    t_policy = tf.nn.softmax(tf.nn.bias_add(tf.matmul(h2, W3),b3))\n",
    "\n",
    "'''\n",
    "p(a=a*|s) = <p(a|s), a*>\n",
    "ただし、a*はone-hotベクトル\n",
    "'''\n",
    "t_score = tf.reduce_sum(t_policy * t_action, -1)\n",
    "\n",
    "optimizer = tf.train.AdamOptimizer(learning_rate=1e-3)\n",
    "\n",
    "'''\n",
    "方策勾配法では損失関数ではなく方策の良さを目的関数にしているので、\n",
    "パラメータの更新方向は勾配方向と同じ（損失関数を使った場合と逆向き）\n",
    "'''\n",
    "grads_and_vars = optimizer.compute_gradients(-t_reward * t_score)\n",
    "\n",
    "train_step = optimizer.apply_gradients(grads_and_vars)\n",
    "tf.global_variables_initializer().run()"
   ]
  },
  {
   "cell_type": "code",
   "execution_count": 5,
   "metadata": {},
   "outputs": [],
   "source": [
    "import numpy as np\n",
    "\n",
    "# 割引率\n",
    "gamma = 1. - 1. / float(nb_step)\n",
    "\n",
    "# 学習率\n",
    "learning_rate = 0.25\n",
    "\n",
    "# 考えうる状態の数はground_truthの大きさと同じ（もう少し小さいが、面倒なので同じとする）\n",
    "q_table = np.expand_dims(np.zeros_like(env.ground_truth, dtype=float), -1)\n",
    "q_table = np.concatenate((q_table,q_table), -1)\n",
    "\n",
    "#  エポック数。全エピソード数は nb_epoch * nb_mc になる。\n",
    "nb_epoch = 1000\n",
    "\n",
    "# MC計算に使うepisode数。パラメータ更新回数は　nb_episode　/　nb_mc　になる\n",
    "nb_mc = 100\n",
    "\n",
    "# ゴール到達後のstate valueの保存間隔\n",
    "save_interval = 100\n",
    "\n",
    "# ε-greedyのハイパーパラメータ\n",
    "epsilon = .1"
   ]
  },
  {
   "cell_type": "code",
   "execution_count": 6,
   "metadata": {},
   "outputs": [],
   "source": [
    "def gumbel_sampling(prob):\n",
    "    rand = np.random.random(len(prob))\n",
    "    g = -np.log(-np.log(rand))\n",
    "    return np.argmax(g+np.log(prob))\n",
    "\n",
    "def epsilon_greedy(sess, t_policy, state, env, epsilon):\n",
    "    if np.random.random(1) > epsilon:\n",
    "        action_prob = t_policy.eval({t_state:np.expand_dims(np.array(state) * state_scale,0)}, sess)[0]# + np.finfo(np.float32).eps\n",
    "    else:\n",
    "        action_prob = np.random.random(2)\n",
    "    action_prob = action_prob / action_prob.sum()\n",
    "    action = np.eye(2)[gumbel_sampling(action_prob)].astype(int)\n",
    "    return action_prob, action"
   ]
  },
  {
   "cell_type": "code",
   "execution_count": 7,
   "metadata": {},
   "outputs": [],
   "source": [
    "def get_trajectory(sess, env, nb_try=100):\n",
    "    trajectory = np.zeros_like(env.ground_truth).astype(np.float32)\n",
    "\n",
    "    for _ in range(nb_try):\n",
    "        current_state = [0,0]\n",
    "        status = 1\n",
    "        while status>=0:\n",
    "\n",
    "                # policyにしたがって行動を取る（まだ遷移させない）。εはゼロにしておく。\n",
    "                action_prob, action = epsilon_greedy(sess, t_policy, current_state, env, 0.)\n",
    "\n",
    "                # 行動に対する報酬と遷移後の状態の計算\n",
    "                next_state, reward, status = env.do_action(current_state, action)\n",
    "\n",
    "                # トラジェクトリの記録\n",
    "                trajectory[current_state[0],current_state[1]] += 1.\n",
    "\n",
    "                # 状態の遷移（マス目の移動）\n",
    "                current_state = next_state\n",
    "    return trajectory\n",
    "\n",
    "def get_probability_distribution(env, sess):\n",
    "    learnt_policy = np.expand_dims(np.zeros_like(env.ground_truth).astype(np.float32), -1)\n",
    "    learnt_policy = np.concatenate([learnt_policy,learnt_policy,learnt_policy],-1)\n",
    "    for s0 in range(env.ground_truth.shape[0]):\n",
    "        for s1 in range(env.ground_truth.shape[1]):\n",
    "            state = np.array([s0,s1]).astype(np.float32)\n",
    "            policy = t_policy.eval({t_state: np.expand_dims(state,0)}, sess)[0]\n",
    "            \n",
    "            # Rチャンネルにdownの確率、Bチャンネルにrightの確率\n",
    "            learnt_policy[s0,s1,0] = policy[0]\n",
    "            learnt_policy[s0,s1,2] = policy[1]\n",
    "    return learnt_policy"
   ]
  },
  {
   "cell_type": "code",
   "execution_count": 8,
   "metadata": {
    "scrolled": false
   },
   "outputs": [
    {
     "name": "stderr",
     "output_type": "stream",
     "text": [
      "\r",
      "  0%|          | 0/1000 [00:00<?, ?it/s]"
     ]
    },
    {
     "data": {
      "image/png": "[encoded data removed]",
      "text/plain": [
       "<matplotlib.figure.Figure at 0x1816696da0>"
      ]
     },
     "metadata": {},
     "output_type": "display_data"
    },
    {
     "name": "stderr",
     "output_type": "stream",
     "text": [
      " 10%|█         | 100/1000 [00:25<03:48,  3.94it/s]"
     ]
    },
    {
     "data": {
      "image/png": "[encoded data removed]",
      "text/plain": [
       "<matplotlib.figure.Figure at 0x1816705320>"
      ]
     },
     "metadata": {},
     "output_type": "display_data"
    },
    {
     "name": "stderr",
     "output_type": "stream",
     "text": [
      " 20%|██        | 200/1000 [01:01<04:05,  3.26it/s]"
     ]
    },
    {
     "data": {
      "image/png": "[encoded data removed]",
      "text/plain": [
       "<matplotlib.figure.Figure at 0x107581550>"
      ]
     },
     "metadata": {},
     "output_type": "display_data"
    },
    {
     "name": "stderr",
     "output_type": "stream",
     "text": [
      " 30%|███       | 300/1000 [01:43<04:01,  2.90it/s]"
     ]
    },
    {
     "data": {
      "image/png": "[encoded data removed]",
      "text/plain": [
       "<matplotlib.figure.Figure at 0x18166a8a20>"
      ]
     },
     "metadata": {},
     "output_type": "display_data"
    },
    {
     "name": "stderr",
     "output_type": "stream",
     "text": [
      " 40%|████      | 400/1000 [02:28<03:43,  2.69it/s]"
     ]
    },
    {
     "data": {
      "image/png": "[encoded data removed]",
      "text/plain": [
       "<matplotlib.figure.Figure at 0x18168ada20>"
      ]
     },
     "metadata": {},
     "output_type": "display_data"
    },
    {
     "name": "stderr",
     "output_type": "stream",
     "text": [
      " 50%|█████     | 500/1000 [03:17<03:17,  2.53it/s]"
     ]
    },
    {
     "data": {
      "image/png": "[encoded data removed]",
      "text/plain": [
       "<matplotlib.figure.Figure at 0x1816918320>"
      ]
     },
     "metadata": {},
     "output_type": "display_data"
    },
    {
     "name": "stderr",
     "output_type": "stream",
     "text": [
      " 60%|██████    | 600/1000 [04:11<02:47,  2.39it/s]"
     ]
    },
    {
     "data": {
      "image/png": "[encoded data removed]",
      "text/plain": [
       "<matplotlib.figure.Figure at 0x18169f6358>"
      ]
     },
     "metadata": {},
     "output_type": "display_data"
    },
    {
     "name": "stderr",
     "output_type": "stream",
     "text": [
      " 70%|███████   | 700/1000 [05:10<02:12,  2.26it/s]"
     ]
    },
    {
     "data": {
      "image/png": "[encoded data removed]",
      "text/plain": [
       "<matplotlib.figure.Figure at 0x1816ab9c88>"
      ]
     },
     "metadata": {},
     "output_type": "display_data"
    },
    {
     "name": "stderr",
     "output_type": "stream",
     "text": [
      " 80%|████████  | 800/1000 [06:12<01:33,  2.15it/s]"
     ]
    },
    {
     "data": {
      "image/png": "[encoded data removed]",
      "text/plain": [
       "<matplotlib.figure.Figure at 0x1816a02550>"
      ]
     },
     "metadata": {},
     "output_type": "display_data"
    },
    {
     "name": "stderr",
     "output_type": "stream",
     "text": [
      " 90%|█████████ | 900/1000 [07:20<00:48,  2.04it/s]"
     ]
    },
    {
     "data": {
      "image/png": "[encoded data removed]",
      "text/plain": [
       "<matplotlib.figure.Figure at 0x1816a4f550>"
      ]
     },
     "metadata": {},
     "output_type": "display_data"
    },
    {
     "name": "stderr",
     "output_type": "stream",
     "text": [
      "100%|██████████| 1000/1000 [08:31<00:00,  1.95it/s]\n"
     ]
    }
   ],
   "source": [
    "from tqdm import tqdm\n",
    "import copy\n",
    "\n",
    "isSuccessed = False\n",
    "\n",
    "# Q関数の初期化\n",
    "rnd = np.random.normal(loc=0., scale=0.1, size=q_table.shape)\n",
    "q_table = rnd*(rnd>0)*(rnd<0.3)\n",
    "\n",
    "temp = []\n",
    "count = 0\n",
    "success_history = []\n",
    "for epoch in tqdm(range(int(nb_epoch))):\n",
    "    \n",
    "    # ε-greedyのεを減衰させる\n",
    "    epsilon = epsilon * 0.999\n",
    "    \n",
    "    episode_states = []\n",
    "    episode_actions = []\n",
    "    episode_rewards = []\n",
    "    success_count = 0\n",
    "    if not epoch%save_interval:\n",
    "        plt.subplot(1,3,1)\n",
    "        plt.imshow(env.ground_truth, 'rainbow', interpolation='nearest')\n",
    "        plt.title('ground truth')\n",
    "        plt.subplot(1,3,2)\n",
    "        plt.imshow(get_probability_distribution(env, sess), 'bwr', interpolation='nearest')\n",
    "        plt.title('probability')\n",
    "        plt.subplot(1,3,3)\n",
    "        plt.imshow(np.log(get_trajectory(sess, env)+np.finfo(np.float32).eps), 'hot')\n",
    "        plt.title('trajectory')\n",
    "        plt.show()\n",
    "#        print()\n",
    "    for mc_step in range(nb_mc):\n",
    "        # 状態の初期化（スタート地点に戻る）\n",
    "        current_state  = np.zeros(2, dtype=int)\n",
    "    \n",
    "        status = 0\n",
    "        while status >= 0:\n",
    "            # policyにしたがって行動を取る（まだ遷移させない）\n",
    "            action_prob, action = epsilon_greedy(sess, t_policy, current_state, env, epsilon)\n",
    "\n",
    "            # 行動に対する報酬と遷移後の状態の計算\n",
    "            next_state, reward, status = env.do_action(current_state, action)                \n",
    "\n",
    "            # TD誤差の計算\n",
    "            cs0 = current_state[0]\n",
    "            cs1 = current_state[1]\n",
    "            ns0 = next_state[0]\n",
    "            ns1 = next_state[1]\n",
    "            q_current = q_table[cs0, cs1, action.argmax()]\n",
    "            q_next_max = np.array(q_table[ns0, ns1, :]).max()\n",
    "            td_error = reward + gamma * q_next_max - q_current\n",
    "\n",
    "            # Q関数の更新\n",
    "            q_table[cs0, cs1, action.argmax()] = q_current + learning_rate * td_error\n",
    "            \n",
    "            # Advantage関数の計算\n",
    "            # ちなみにV(s)=Σ_a π(a|s) Q(s,a)\n",
    "            policy = t_policy.eval({t_state:np.expand_dims(np.array(current_state) * state_scale,0)}, sess)[0]\n",
    "            state_value = (np.array(q_table[cs0, cs1, :]) * np.array(policy)).sum()\n",
    "            advantage = q_table[cs0, cs1, action.argmax()] - state_value\n",
    "\n",
    "            # エピソード中の遷移前状態、行動、Advantage関数を保存する\n",
    "            episode_states.append(copy.deepcopy(current_state))\n",
    "            episode_actions.append(copy.deepcopy(action))\n",
    "            episode_rewards.append(copy.deepcopy(advantage))\n",
    "\n",
    "            # 状態の遷移（マス目の移動）\n",
    "            current_state = next_state\n",
    "            \n",
    "            if status==1:\n",
    "                success_count += 1\n",
    "                isSuccessed = True\n",
    "\n",
    "    # 方策勾配を計算する\n",
    "    episode_states = np.array(episode_states)\n",
    "    episode_actions = np.array(episode_actions)\n",
    "    episode_rewards = np.array(episode_rewards)\n",
    "    success_history.append(success_count)\n",
    "    sess.run(\n",
    "        [train_step], \n",
    "        feed_dict={\n",
    "            t_action: episode_actions,\n",
    "            t_state: episode_states * state_scale,\n",
    "            t_reward: episode_rewards\n",
    "        }\n",
    "    )"
   ]
  },
  {
   "cell_type": "code",
   "execution_count": 9,
   "metadata": {},
   "outputs": [
    {
     "data": {
      "text/plain": [
       "Text(0,0.5,'success count / epoch')"
      ]
     },
     "execution_count": 9,
     "metadata": {},
     "output_type": "execute_result"
    },
    {
     "data": {
      "image/png": "[encoded data removed]",
      "text/plain": [
       "<matplotlib.figure.Figure at 0x181665b438>"
      ]
     },
     "metadata": {},
     "output_type": "display_data"
    }
   ],
   "source": [
    "plt.plot(success_history)\n",
    "plt.xlabel('epoch')\n",
    "plt.ylabel('success count / epoch')"
   ]
  },
  {
   "cell_type": "code",
   "execution_count": 16,
   "metadata": {},
   "outputs": [
    {
     "data": {
      "text/plain": [
       "Text(0.5,1,'right')"
      ]
     },
     "execution_count": 16,
     "metadata": {},
     "output_type": "execute_result"
    },
    {
     "data": {
      "image/png": "[encoded data removed]",
      "text/plain": [
       "<matplotlib.figure.Figure at 0x1816a8ccf8>"
      ]
     },
     "metadata": {},
     "output_type": "display_data"
    }
   ],
   "source": [
    "plt.figure(figsize=(15,5))\n",
    "\n",
    "plt.subplot(1,3,1)\n",
    "plt.imshow(env.ground_truth, 'rainbow', interpolation='nearest')\n",
    "\n",
    "plt.subplot(1,3,2)\n",
    "plt.imshow(q_table[:,:,0], 'bwr', interpolation='nearest')\n",
    "vmin = q_table[:,:,0].min()\n",
    "vmax = q_table[:,:,0].max()\n",
    "vabsmax = max(np.abs(vmin),np.abs(vmax))\n",
    "plt.clim(-vabsmax,vabsmax)\n",
    "plt.title('down')\n",
    "\n",
    "plt.subplot(1,3,3)\n",
    "plt.imshow(q_table[:,:,1], 'bwr', interpolation='nearest')\n",
    "vmin = q_table[:,:,1].min()\n",
    "vmax = q_table[:,:,1].max()\n",
    "vabsmax = max(np.abs(vmin),np.abs(vmax))\n",
    "plt.clim(-vabsmax,vabsmax)\n",
    "plt.title('right')"
   ]
  },
  {
   "cell_type": "code",
   "execution_count": null,
   "metadata": {},
   "outputs": [],
   "source": []
  }
 ],
 "metadata": {
  "kernelspec": {
   "display_name": "Python [conda env:dl35]",
   "language": "python",
   "name": "conda-env-dl35-py"
  },
  "language_info": {
   "codemirror_mode": {
    "name": "ipython",
    "version": 3
   },
   "file_extension": ".py",
   "mimetype": "text/x-python",
   "name": "python",
   "nbconvert_exporter": "python",
   "pygments_lexer": "ipython3",
   "version": "3.5.4"
  }
 },
 "nbformat": 4,
 "nbformat_minor": 2
}
