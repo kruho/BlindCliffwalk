{
 "cells": [
  {
   "cell_type": "markdown",
   "metadata": {},
   "source": [
    "# 環境の設定"
   ]
  },
  {
   "cell_type": "code",
   "execution_count": 1,
   "metadata": {},
   "outputs": [],
   "source": [
    "from blindcliftwalk import BlindCliftwalk\n",
    "\n",
    "# ゴールまでの距離\n",
    "nb_step = 20\n",
    "#nb_step = 10\n",
    "\n",
    "# ゴールの数\n",
    "nb_goals = 3\n",
    "#nb_goals = 1\n",
    "\n",
    "env = BlindCliftwalk(nb_step, nb_goals)"
   ]
  },
  {
   "cell_type": "code",
   "execution_count": 2,
   "metadata": {},
   "outputs": [
    {
     "data": {
      "text/plain": [
       "array([[2, 1, 1, 1, 1, 1, 0, 0, 0, 0, 0, 0, 0, 0, 0, 0, 0, 0, 0, 0],\n",
       "       [1, 0, 0, 1, 1, 1, 1, 0, 0, 0, 0, 0, 0, 0, 0, 0, 0, 0, 0, 0],\n",
       "       [1, 0, 0, 0, 0, 1, 1, 1, 0, 0, 0, 0, 0, 0, 0, 0, 0, 0, 0, 0],\n",
       "       [1, 0, 0, 0, 0, 1, 0, 1, 0, 0, 0, 0, 0, 0, 0, 0, 0, 0, 0, 0],\n",
       "       [1, 0, 0, 0, 0, 1, 1, 1, 1, 1, 0, 0, 0, 0, 0, 0, 0, 0, 0, 0],\n",
       "       [1, 1, 0, 0, 0, 0, 0, 0, 1, 1, 1, 0, 0, 0, 0, 0, 0, 0, 0, 0],\n",
       "       [0, 1, 1, 1, 0, 0, 0, 0, 1, 1, 1, 1, 1, 1, 0, 0, 0, 0, 0, 0],\n",
       "       [0, 0, 0, 1, 0, 0, 0, 0, 0, 1, 0, 0, 0, 3, 0, 0, 0, 0, 0, 0],\n",
       "       [0, 0, 0, 1, 0, 0, 0, 0, 0, 1, 1, 0, 0, 0, 0, 0, 0, 0, 0, 0],\n",
       "       [0, 0, 0, 1, 0, 0, 0, 0, 0, 0, 1, 0, 0, 0, 0, 0, 0, 0, 0, 0],\n",
       "       [0, 0, 0, 1, 1, 1, 1, 0, 0, 0, 3, 0, 0, 0, 0, 0, 0, 0, 0, 0],\n",
       "       [0, 0, 0, 0, 0, 0, 1, 1, 1, 0, 0, 0, 0, 0, 0, 0, 0, 0, 0, 0],\n",
       "       [0, 0, 0, 0, 0, 0, 0, 0, 3, 0, 0, 0, 0, 0, 0, 0, 0, 0, 0, 0],\n",
       "       [0, 0, 0, 0, 0, 0, 0, 0, 0, 0, 0, 0, 0, 0, 0, 0, 0, 0, 0, 0],\n",
       "       [0, 0, 0, 0, 0, 0, 0, 0, 0, 0, 0, 0, 0, 0, 0, 0, 0, 0, 0, 0],\n",
       "       [0, 0, 0, 0, 0, 0, 0, 0, 0, 0, 0, 0, 0, 0, 0, 0, 0, 0, 0, 0],\n",
       "       [0, 0, 0, 0, 0, 0, 0, 0, 0, 0, 0, 0, 0, 0, 0, 0, 0, 0, 0, 0],\n",
       "       [0, 0, 0, 0, 0, 0, 0, 0, 0, 0, 0, 0, 0, 0, 0, 0, 0, 0, 0, 0],\n",
       "       [0, 0, 0, 0, 0, 0, 0, 0, 0, 0, 0, 0, 0, 0, 0, 0, 0, 0, 0, 0],\n",
       "       [0, 0, 0, 0, 0, 0, 0, 0, 0, 0, 0, 0, 0, 0, 0, 0, 0, 0, 0, 0]])"
      ]
     },
     "execution_count": 2,
     "metadata": {},
     "output_type": "execute_result"
    }
   ],
   "source": [
    "import numpy as np\n",
    "\n",
    "np.random.seed(seed=50)\n",
    "env.set_ground_truth()\n",
    "env.ground_truth"
   ]
  },
  {
   "cell_type": "code",
   "execution_count": 3,
   "metadata": {},
   "outputs": [
    {
     "data": {
      "text/plain": [
       "<matplotlib.image.AxesImage at 0x110588550>"
      ]
     },
     "execution_count": 3,
     "metadata": {},
     "output_type": "execute_result"
    },
    {
     "data": {
      "image/png": "[encoded data removed]",
      "text/plain": [
       "<matplotlib.figure.Figure at 0x10f56acf8>"
      ]
     },
     "metadata": {},
     "output_type": "display_data"
    }
   ],
   "source": [
    "import matplotlib.pyplot as plt\n",
    "%matplotlib inline\n",
    "\n",
    "plt.imshow(env.ground_truth, 'rainbow', interpolation='nearest')\n",
    "#plt.savefig('ground_truth.png')"
   ]
  },
  {
   "cell_type": "markdown",
   "metadata": {},
   "source": [
    "# 方策勾配法（REINFORCEアルゴリズム）で方策を学習する"
   ]
  },
  {
   "cell_type": "markdown",
   "metadata": {},
   "source": [
    "- ガウス分布型の方策を使用する。\n",
    "$$¥pi(a|s) =¥exp ¥Bigg( - ¥frac{(s-Wa)^2}{2¥sigma^2} ¥Bigg)$$"
   ]
  },
  {
   "cell_type": "code",
   "execution_count": 4,
   "metadata": {},
   "outputs": [
    {
     "name": "stderr",
     "output_type": "stream",
     "text": [
      "/Users/ruhokondo/Programming/anaconda3/envs/dl35/lib/python3.5/importlib/_bootstrap.py:222: RuntimeWarning: compiletime version 3.6 of module 'tensorflow.python.framework.fast_tensor_util' does not match runtime version 3.5\n",
      "  return f(*args, **kwds)\n",
      "/Users/ruhokondo/Programming/anaconda3/envs/dl35/lib/python3.5/site-packages/h5py/__init__.py:36: FutureWarning: Conversion of the second argument of issubdtype from `float` to `np.floating` is deprecated. In future, it will be treated as `np.float64 == np.dtype(float).type`.\n",
      "  from ._conv import register_converters as _register_converters\n"
     ]
    }
   ],
   "source": [
    "import tensorflow as tf\n",
    "\n",
    "t_action = tf.placeholder(tf.float32, [None, 2], name='action')\n",
    "t_state = tf.placeholder(tf.float32, [None, 2], name='state')\n",
    "t_reward = tf.placeholder(tf.float32, [None, 1], name='reward')\n",
    "\n",
    "#model = 'one-layer'\n",
    "model = 'two-layers'\n",
    "\n",
    "if model=='one-layer':\n",
    "    rand = np.random.random(size=(2,2)).astype(np.float32)\n",
    "    t_weights = tf.Variable(rand)\n",
    "    t_policy_mean = tf.reduce_sum(t_weights* t_state, -1)\n",
    "elif model=='two-layers':\n",
    "    pass\n",
    "#    rand1 = np.random.random(size=(10,2)).astype(np.float32)\n",
    "#    rand2 = np.random.random(size=(2,10)).astype(np.float32)\n",
    "#    t_weights1 = tf.Variable(rand1)\n",
    "#    t_weights2 = tf.Variable(rand2)\n",
    "#    t_policy_mean = tf.reduce_sum(t_weights2 * tf.nn.relu(tf.reduce_sum(t_weights1* t_state, -1)), -1)\n",
    "    \n",
    "#t_policy = tf.exp(-0.5 * tf.square(t_action - t_policy_mean))\n",
    "\n",
    "#lr = 1e-3\n",
    "\n",
    "if model=='one-layer':\n",
    "    t_weights_grad = t_reward * tf.gradients(tf.log(t_policy), t_weights)[0]\n",
    "    t_weights_ = t_weights - lr * t_weights_grad_sum\n",
    "elif model=='two-layers':\n",
    "#    t_weights_grad1 = t_reward * tf.gradients(tf.log(t_policy), t_weights1)[0]\n",
    "#    t_weights_grad2 = t_reward * tf.gradients(tf.log(t_policy), t_weights2)[0]\n",
    "#    t_weights1_ = t_weights1 - lr * t_weights_grad1\n",
    "#    t_weights2_ = t_weights2 - lr * t_weights_grad2\n",
    "    pass"
   ]
  },
  {
   "cell_type": "code",
   "execution_count": 5,
   "metadata": {},
   "outputs": [],
   "source": [
    "sess = tf.InteractiveSession()\n",
    "if model=='one-layer':\n",
    "#    step = tf.group(t_weights.assign(t_weights_))\n",
    "    compute_gradient  = tf.group(t_weights_grad_sum.assign(t_weights_grad))\n",
    "elif model=='two-layers':\n",
    "    nb_nodes = 100\n",
    "    W1 = tf.Variable(tf.random_normal([2, nb_nodes], stddev=np.sqrt(2 / (2 + nb_nodes))), name='W1')\n",
    "    W2 = tf.Variable(tf.random_normal([nb_nodes, 2], stddev=np.sqrt(2 / (nb_nodes + 2))), name='W2')\n",
    "    b1 = tf.Variable(tf.random_normal([nb_nodes]), name='b1')\n",
    "    b2 = tf.Variable(tf.random_normal([2]), name='b2')\n",
    "    \n",
    "    h1 = tf.nn.relu(tf.nn.bias_add(tf.matmul(t_state, W1),b1))\n",
    "    t_policy_mean = tf.nn.softmax(tf.nn.bias_add(tf.matmul(h1, W2),b2))\n",
    "#    t_policy = tf.exp(-0.5 * tf.square(t_action - t_policy_mean))\n",
    "    t_policy = tf.square(t_action - t_policy_mean)\n",
    "\n",
    "    t_weights_grad1 =  tf.gradients(t_reward * tf.log(t_policy), W1)[0]\n",
    "    t_weights_grad2 =  tf.gradients(t_reward * tf.log(t_policy), W2)[0]\n",
    "    t_bias_grad1 =  tf.gradients(t_reward * tf.log(t_policy), b1)[0]\n",
    "    t_bias_grad2 =  tf.gradients(t_reward * tf.log(t_policy), b2)[0]\n",
    "    t_policy_gradient = [\n",
    "        (t_weights_grad1, W1),\n",
    "        (t_weights_grad2, W2),\n",
    "        (t_bias_grad1, b1),\n",
    "        (t_bias_grad2, b2)\n",
    "    ]\n",
    "    train_step = tf.train.AdamOptimizer(learning_rate=1e-3).apply_gradients(t_policy_gradient)\n",
    "tf.global_variables_initializer().run()"
   ]
  },
  {
   "cell_type": "code",
   "execution_count": 6,
   "metadata": {},
   "outputs": [],
   "source": [
    "if model=='one-layer':\n",
    "    initial_weights = t_weights.eval(sess)\n",
    "elif model=='two-layers':\n",
    "    pass\n",
    "#    initial_weights = t_weights1.eval(sess),t_weights2.eval(sess)"
   ]
  },
  {
   "cell_type": "code",
   "execution_count": 7,
   "metadata": {},
   "outputs": [
    {
     "data": {
      "image/png": "[encoded data removed]",
      "text/plain": [
       "<matplotlib.figure.Figure at 0x181f406278>"
      ]
     },
     "metadata": {},
     "output_type": "display_data"
    },
    {
     "data": {
      "text/plain": [
       "Text(0.5,1,'right')"
      ]
     },
     "execution_count": 7,
     "metadata": {},
     "output_type": "execute_result"
    },
    {
     "data": {
      "image/png": "[encoded data removed]",
      "text/plain": [
       "<matplotlib.figure.Figure at 0x181f5e2dd8>"
      ]
     },
     "metadata": {},
     "output_type": "display_data"
    }
   ],
   "source": [
    "learnt_policy = np.expand_dims(np.zeros_like(env.ground_truth).astype(np.float32), -1)\n",
    "learnt_policy = np.concatenate([learnt_policy,learnt_policy],-1)\n",
    "for s0 in range(env.ground_truth.shape[0]):\n",
    "    for s1 in range(env.ground_truth.shape[1]):\n",
    "        state = np.array([s0,s1]).astype(np.float32)\n",
    "#        state = np.array([s0,s1]).astype(np.float32) / 20.\n",
    "        policy_mean = t_policy_mean.eval({t_state: np.expand_dims(state,0)}, sess)[0]\n",
    "        learnt_policy[s0,s1,:] = policy_mean\n",
    "plt.imshow(learnt_policy[:,:,0], 'hot')\n",
    "plt.title('down')\n",
    "plt.show()\n",
    "plt.imshow(learnt_policy[:,:,1], 'hot')\n",
    "plt.title('right')"
   ]
  },
  {
   "cell_type": "code",
   "execution_count": 8,
   "metadata": {},
   "outputs": [],
   "source": [
    "#  episode数 = nb_epoch * nb_mc\n",
    "nb_epoch = 1000\n",
    "\n",
    "# MC計算に使うepisode数。パラメータ更新回数は　nb_episode　/　nb_mc　になる\n",
    "nb_mc = 100\n",
    "\n",
    "# ゴール到達後のstate valueの保存間隔\n",
    "save_interval = 1000\n",
    "\n",
    "# ε-greedyのハイパーパラメータ\n",
    "epsilon = 0.3"
   ]
  },
  {
   "cell_type": "code",
   "execution_count": 9,
   "metadata": {},
   "outputs": [],
   "source": [
    "def gumbel_sampling(prob):\n",
    "    rand = np.random.random(len(prob))\n",
    "    g = -np.log(-np.log(rand))\n",
    "    return np.argmax(g+np.log(prob))\n",
    "\n",
    "def epsilon_greedy(sess, t_policy_mean, state, env, epsilon):\n",
    "    if np.random.random(1) > epsilon:\n",
    "        action_prob = t_policy_mean.eval({t_state:np.expand_dims(state,0)}, sess) + np.finfo(np.float32).eps\n",
    "    else:\n",
    "        action_prob = np.random.random(2)\n",
    "    action_prob = action_prob / action_prob.sum()\n",
    "#    action = np.eye(2)[int(np.array(action_prob).argmax())].astype(int)\n",
    "    action = np.eye(2)[gumbel_sampling(action_prob)].astype(int)\n",
    "    return action_prob, action"
   ]
  },
  {
   "cell_type": "code",
   "execution_count": 10,
   "metadata": {
    "scrolled": true
   },
   "outputs": [
    {
     "name": "stderr",
     "output_type": "stream",
     "text": [
      "  0%|          | 2/1000 [00:00<01:34, 10.55it/s]"
     ]
    },
    {
     "name": "stdout",
     "output_type": "stream",
     "text": [
      "\n",
      "s= [0 0]  p= [0.19032143 0.80967857]  a= [0 1]  status= 0\n",
      "s= [0 1]  p= [[0.82583183 0.17416818]]  a= [1 0]  status= -1\n"
     ]
    },
    {
     "name": "stderr",
     "output_type": "stream",
     "text": [
      " 10%|█         | 101/1000 [00:10<01:32,  9.77it/s]"
     ]
    },
    {
     "name": "stdout",
     "output_type": "stream",
     "text": [
      "\n",
      "s= [0 0]  p= [[0.61075026 0.38924983]]  a= [1 0]  status= 0\n",
      "s= [1 0]  p= [[0.6258841  0.37411588]]  a= [1 0]  status= 0\n",
      "s= [2 0]  p= [0.68005787 0.31994213]  a= [0 1]  status= -1\n"
     ]
    },
    {
     "name": "stderr",
     "output_type": "stream",
     "text": [
      " 20%|██        | 201/1000 [00:21<01:25,  9.29it/s]"
     ]
    },
    {
     "name": "stdout",
     "output_type": "stream",
     "text": [
      "\n",
      "s= [0 0]  p= [[0.6080262  0.39197385]]  a= [1 0]  status= 0\n",
      "s= [1 0]  p= [[0.68820053 0.31179947]]  a= [1 0]  status= 0\n",
      "s= [2 0]  p= [[0.68586844 0.31413156]]  a= [1 0]  status= 0\n",
      "s= [3 0]  p= [0.50936428 0.49063572]  a= [1 0]  status= 0\n",
      "s= [4 0]  p= [[0.5649885  0.43501157]]  a= [1 0]  status= 0\n",
      "s= [5 0]  p= [[0.50002396 0.4999761 ]]  a= [1 0]  status= -1\n"
     ]
    },
    {
     "name": "stderr",
     "output_type": "stream",
     "text": [
      " 30%|███       | 301/1000 [00:33<01:17,  9.04it/s]"
     ]
    },
    {
     "name": "stdout",
     "output_type": "stream",
     "text": [
      "\n",
      "s= [0 0]  p= [[0.672225  0.3277749]]  a= [1 0]  status= 0\n",
      "s= [1 0]  p= [[0.78808767 0.21191236]]  a= [1 0]  status= 0\n",
      "s= [2 0]  p= [0.44129952 0.55870048]  a= [1 0]  status= 0\n",
      "s= [3 0]  p= [[0.6973833  0.30261672]]  a= [1 0]  status= 0\n",
      "s= [4 0]  p= [[0.59986687 0.40013313]]  a= [1 0]  status= 0\n",
      "s= [5 0]  p= [[0.50153875 0.4984612 ]]  a= [1 0]  status= -1\n"
     ]
    },
    {
     "name": "stderr",
     "output_type": "stream",
     "text": [
      " 40%|████      | 401/1000 [00:45<01:07,  8.84it/s]"
     ]
    },
    {
     "name": "stdout",
     "output_type": "stream",
     "text": [
      "\n",
      "s= [0 0]  p= [0.67315258 0.32684742]  a= [1 0]  status= 0\n",
      "s= [1 0]  p= [[0.8392392  0.16076088]]  a= [1 0]  status= 0\n",
      "s= [2 0]  p= [[0.8224609  0.17753911]]  a= [1 0]  status= 0\n",
      "s= [3 0]  p= [[0.73587435 0.26412565]]  a= [1 0]  status= 0\n",
      "s= [4 0]  p= [[0.61630964 0.3836904 ]]  a= [1 0]  status= 0\n",
      "s= [5 0]  p= [[0.4894716  0.51052845]]  a= [0 1]  status= 0\n",
      "s= [5 1]  p= [[0.5190747  0.48092535]]  a= [1 0]  status= 0\n",
      "s= [6 1]  p= [0.47370353 0.52629647]  a= [0 1]  status= 0\n",
      "s= [6 2]  p= [[0.4972114  0.50278854]]  a= [0 1]  status= 0\n",
      "s= [6 3]  p= [[0.56908035 0.43091968]]  a= [1 0]  status= 0\n",
      "s= [7 3]  p= [0.45291531 0.54708469]  a= [0 1]  status= -1\n"
     ]
    },
    {
     "name": "stderr",
     "output_type": "stream",
     "text": [
      " 50%|█████     | 501/1000 [00:58<00:57,  8.63it/s]"
     ]
    },
    {
     "name": "stdout",
     "output_type": "stream",
     "text": [
      "\n",
      "s= [0 0]  p= [[0.7572558  0.24274415]]  a= [1 0]  status= 0\n",
      "s= [1 0]  p= [0.2433675 0.7566325]  a= [0 1]  status= -1\n"
     ]
    },
    {
     "name": "stderr",
     "output_type": "stream",
     "text": [
      " 60%|██████    | 601/1000 [01:10<00:46,  8.49it/s]"
     ]
    },
    {
     "name": "stdout",
     "output_type": "stream",
     "text": [
      "\n",
      "s= [0 0]  p= [0.97410478 0.02589522]  a= [1 0]  status= 0\n",
      "s= [1 0]  p= [[0.8915228  0.10847712]]  a= [1 0]  status= 0\n",
      "s= [2 0]  p= [[0.8962704  0.10372962]]  a= [1 0]  status= 0\n",
      "s= [3 0]  p= [[0.80850375 0.19149621]]  a= [1 0]  status= 0\n",
      "s= [4 0]  p= [[0.669644 0.330356]]  a= [1 0]  status= 0\n",
      "s= [5 0]  p= [0.6069029 0.3930971]  a= [0 1]  status= 0\n",
      "s= [5 1]  p= [0.21596375 0.78403625]  a= [0 1]  status= -1\n"
     ]
    },
    {
     "name": "stderr",
     "output_type": "stream",
     "text": [
      " 70%|███████   | 701/1000 [01:24<00:36,  8.28it/s]"
     ]
    },
    {
     "name": "stdout",
     "output_type": "stream",
     "text": [
      "\n",
      "s= [0 0]  p= [[0.84212583 0.15787417]]  a= [1 0]  status= 0\n",
      "s= [1 0]  p= [[0.91443866 0.0855613 ]]  a= [1 0]  status= 0\n",
      "s= [2 0]  p= [[0.92246044 0.07753959]]  a= [1 0]  status= 0\n",
      "s= [3 0]  p= [[0.8389999 0.1610001]]  a= [1 0]  status= 0\n",
      "s= [4 0]  p= [0.47087305 0.52912695]  a= [1 0]  status= 0\n",
      "s= [5 0]  p= [[0.49669838 0.50330156]]  a= [0 1]  status= 0\n",
      "s= [5 1]  p= [[0.5216828  0.47831717]]  a= [1 0]  status= 0\n",
      "s= [6 1]  p= [0.2528569 0.7471431]  a= [0 1]  status= 0\n",
      "s= [6 2]  p= [0.43969861 0.56030139]  a= [0 1]  status= 0\n",
      "s= [6 3]  p= [0.31736137 0.68263863]  a= [1 0]  status= 0\n",
      "s= [7 3]  p= [0.2751255 0.7248745]  a= [0 1]  status= -1\n"
     ]
    },
    {
     "name": "stderr",
     "output_type": "stream",
     "text": [
      " 80%|████████  | 801/1000 [01:39<00:24,  8.09it/s]"
     ]
    },
    {
     "name": "stdout",
     "output_type": "stream",
     "text": [
      "\n",
      "s= [0 0]  p= [[0.8657887  0.13421135]]  a= [1 0]  status= 0\n",
      "s= [1 0]  p= [[0.9338256  0.06617436]]  a= [1 0]  status= 0\n",
      "s= [2 0]  p= [[0.94073266 0.05926736]]  a= [1 0]  status= 0\n",
      "s= [3 0]  p= [[0.863435  0.1365651]]  a= [1 0]  status= 0\n",
      "s= [4 0]  p= [0.48898122 0.51101878]  a= [1 0]  status= 0\n",
      "s= [5 0]  p= [[0.49991548 0.50008446]]  a= [0 1]  status= 0\n",
      "s= [5 1]  p= [[0.5324507 0.4675493]]  a= [1 0]  status= 0\n",
      "s= [6 1]  p= [[0.40956572 0.5904343 ]]  a= [0 1]  status= 0\n",
      "s= [6 2]  p= [[0.5081246 0.4918754]]  a= [1 0]  status= -1\n"
     ]
    },
    {
     "name": "stderr",
     "output_type": "stream",
     "text": [
      " 90%|█████████ | 901/1000 [01:53<00:12,  7.95it/s]"
     ]
    },
    {
     "name": "stdout",
     "output_type": "stream",
     "text": [
      "\n",
      "s= [0 0]  p= [[0.86911154 0.13088852]]  a= [1 0]  status= 0\n",
      "s= [1 0]  p= [[0.93963295 0.06036709]]  a= [1 0]  status= 0\n",
      "s= [2 0]  p= [0.38049343 0.61950657]  a= [1 0]  status= 0\n",
      "s= [3 0]  p= [0.06874837 0.93125163]  a= [0 1]  status= -1\n"
     ]
    },
    {
     "name": "stderr",
     "output_type": "stream",
     "text": [
      "100%|██████████| 1000/1000 [02:07<00:00,  7.84it/s]\n"
     ]
    }
   ],
   "source": [
    "from tqdm import tqdm\n",
    "import copy\n",
    "\n",
    "isSuccessed = False\n",
    "\n",
    "temp = []\n",
    "count = 0\n",
    "success_history = []\n",
    "for epoch in tqdm(range(int(nb_epoch))):\n",
    "    episode_states = []\n",
    "    episode_actions = []\n",
    "    episode_rewards = []\n",
    "    success_count = 0\n",
    "    if not epoch%100:\n",
    "        print()\n",
    "    for mc_step in range(nb_mc):\n",
    "        # 状態の初期化（スタート地点に戻る）\n",
    "        current_state  = np.zeros(2, dtype=int)\n",
    "    \n",
    "        status = 0\n",
    "        while status >= 0:\n",
    "            # policyにしたがって行動を取る（まだ遷移させない）\n",
    "            action_prob, action = epsilon_greedy(sess, t_policy_mean, current_state, env, epsilon)\n",
    "\n",
    "            # 行動に対する報酬と遷移後の状態の計算\n",
    "            next_state, reward, status = env.do_action(current_state, action)\n",
    "#            if status==0:\n",
    "#                reward=1#test\n",
    "#            if status==1:\n",
    "#                reward=10#test\n",
    "            if status==-1:\n",
    "                reward=-1#test\n",
    "                \n",
    "            if not epoch%100 and mc_step==0:\n",
    "                print('s=',current_state,' p=',action_prob,' a=',action,' status=',status)\n",
    "            \n",
    "            # エピソード中の遷移前状態、行動、報酬を保存する\n",
    "            episode_states.append(copy.deepcopy(current_state))\n",
    "            episode_actions.append(copy.deepcopy(action))\n",
    "            episode_rewards.append(copy.deepcopy(reward))\n",
    "\n",
    "            # 状態の遷移（マス目の移動）\n",
    "            current_state = next_state\n",
    "            \n",
    "            if status==1:\n",
    "                success_count += 1\n",
    "                isSuccessed = True\n",
    "\n",
    "    # 方策勾配を計算する\n",
    "    episode_states = np.array(episode_states)\n",
    "    episode_actions = np.array(episode_actions)\n",
    "    episode_rewards = np.array(episode_rewards)\n",
    "#    print(episode_states)\n",
    "#    print(episode_actions)\n",
    "#    print(episode_rewards)\n",
    "    success_history.append(success_count)\n",
    "    if False:\n",
    "        print(t_weights_grad1.eval({t_action: episode_actions, t_state: np.array(episode_states)/20.,            t_reward: np.expand_dims(np.array(episode_rewards), -1)}, sess))\n",
    "        print(t_weights_grad2.eval({t_action: episode_actions, t_state: np.array(episode_states)/20.,            t_reward: np.expand_dims(np.array(episode_rewards), -1)}, sess))\n",
    "        print(t_bias_grad1.eval({t_action: episode_actions, t_state: np.array(episode_states)/20.,            t_reward: np.expand_dims(np.array(episode_rewards), -1)}, sess))\n",
    "        print(t_bias_grad2.eval({t_action: episode_actions, t_state: np.array(episode_states)/20.,            t_reward: np.expand_dims(np.array(episode_rewards), -1)}, sess))\n",
    "    if False:\n",
    "        print(W1.eval())\n",
    "        print(W2.eval())\n",
    "        print(b1.eval())\n",
    "        print(b2.eval())\n",
    "#    _, summary = sess.run(\n",
    "    sess.run(\n",
    "#        [train_step, merged_summary_op], \n",
    "        [train_step], \n",
    "        feed_dict={\n",
    "            t_action: episode_actions,\n",
    "            t_state: episode_states,\n",
    "#            t_state: episode_states/20.,\n",
    "            t_reward: np.expand_dims(episode_rewards, -1)\n",
    "        }\n",
    "    )\n",
    "\n",
    "#                if isSuccessed:\n",
    "#                    count += 1\n",
    "#                    if count==save_interval:\n",
    "    #                    stacked_q_table.append(np.copy(q_table))\n",
    "#                        count = 0\n",
    "    #    if not i%100:\n",
    "    #        temp.append(x.eval(session=sess))"
   ]
  },
  {
   "cell_type": "code",
   "execution_count": 15,
   "metadata": {},
   "outputs": [
    {
     "data": {
      "text/plain": [
       "[<matplotlib.lines.Line2D at 0x10dc930f0>]"
      ]
     },
     "execution_count": 15,
     "metadata": {},
     "output_type": "execute_result"
    },
    {
     "data": {
      "image/png": "[encoded data removed]",
      "text/plain": [
       "<matplotlib.figure.Figure at 0x181f406a58>"
      ]
     },
     "metadata": {},
     "output_type": "display_data"
    }
   ],
   "source": [
    "plt.plot(success_history)"
   ]
  },
  {
   "cell_type": "code",
   "execution_count": 12,
   "metadata": {},
   "outputs": [
    {
     "data": {
      "image/png": "[encoded data removed]",
      "text/plain": [
       "<matplotlib.figure.Figure at 0x181f538b38>"
      ]
     },
     "metadata": {},
     "output_type": "display_data"
    },
    {
     "data": {
      "text/plain": [
       "Text(0.5,1,'right')"
      ]
     },
     "execution_count": 12,
     "metadata": {},
     "output_type": "execute_result"
    },
    {
     "data": {
      "image/png": "[encoded data removed]",
      "text/plain": [
       "<matplotlib.figure.Figure at 0x181f7404e0>"
      ]
     },
     "metadata": {},
     "output_type": "display_data"
    }
   ],
   "source": [
    "learnt_policy = np.expand_dims(np.zeros_like(env.ground_truth).astype(np.float32), -1)\n",
    "learnt_policy = np.concatenate([learnt_policy,learnt_policy],-1)\n",
    "for s0 in range(env.ground_truth.shape[0]):\n",
    "    for s1 in range(env.ground_truth.shape[1]):\n",
    "        state = np.array([s0,s1]).astype(np.float32)\n",
    "#        state = np.array([s0,s1]).astype(np.float32) / 20.\n",
    "        policy_mean = t_policy_mean.eval({t_state: np.expand_dims(state,0)}, sess)[0]\n",
    "        learnt_policy[s0,s1,:] = policy_mean\n",
    "plt.imshow(learnt_policy[:,:,0], 'hot')\n",
    "plt.title('down')\n",
    "plt.show()\n",
    "plt.imshow(learnt_policy[:,:,1], 'hot')\n",
    "plt.title('right')"
   ]
  },
  {
   "cell_type": "markdown",
   "metadata": {},
   "source": [
    "赤: 下  \n",
    "青: 右"
   ]
  },
  {
   "cell_type": "code",
   "execution_count": 13,
   "metadata": {},
   "outputs": [
    {
     "data": {
      "image/png": "[encoded data removed]",
      "text/plain": [
       "<matplotlib.figure.Figure at 0x181f8c15c0>"
      ]
     },
     "metadata": {},
     "output_type": "display_data"
    },
    {
     "data": {
      "text/plain": [
       "<matplotlib.image.AxesImage at 0x181f982198>"
      ]
     },
     "execution_count": 13,
     "metadata": {},
     "output_type": "execute_result"
    },
    {
     "data": {
      "image/png": "[encoded data removed]",
      "text/plain": [
       "<matplotlib.figure.Figure at 0x181f9443c8>"
      ]
     },
     "metadata": {},
     "output_type": "display_data"
    }
   ],
   "source": [
    "learnt_policy = np.expand_dims(np.zeros_like(env.ground_truth).astype(np.float32), -1)\n",
    "learnt_policy = np.concatenate([learnt_policy,learnt_policy,learnt_policy],-1)\n",
    "for s0 in range(env.ground_truth.shape[0]):\n",
    "    for s1 in range(env.ground_truth.shape[1]):\n",
    "        state = np.array([s0,s1]).astype(np.float32)\n",
    "        policy_mean = t_policy_mean.eval({t_state: np.expand_dims(state,0)}, sess)[0]\n",
    "        learnt_policy[s0,s1,0] = policy_mean[0]\n",
    "        learnt_policy[s0,s1,2] = policy_mean[1]\n",
    "plt.imshow(env.ground_truth, 'rainbow', interpolation='nearest')\n",
    "plt.show()\n",
    "plt.imshow(learnt_policy)"
   ]
  },
  {
   "cell_type": "code",
   "execution_count": 14,
   "metadata": {},
   "outputs": [],
   "source": [
    "if model=='one-layer':\n",
    "    learnt_weights = t_weights.eval(sess)\n",
    "elif model=='two-layers':\n",
    "#    learnt_weights = t_weights1.eval(sess),t_weights2.eval(sess)\n",
    "    pass\n",
    "\n",
    "\n",
    "#print(initial_weights)\n",
    "#print(learnt_weights)"
   ]
  },
  {
   "cell_type": "code",
   "execution_count": null,
   "metadata": {},
   "outputs": [],
   "source": []
  }
 ],
 "metadata": {
  "kernelspec": {
   "display_name": "Python [conda env:dl35]",
   "language": "python",
   "name": "conda-env-dl35-py"
  },
  "language_info": {
   "codemirror_mode": {
    "name": "ipython",
    "version": 3
   },
   "file_extension": ".py",
   "mimetype": "text/x-python",
   "name": "python",
   "nbconvert_exporter": "python",
   "pygments_lexer": "ipython3",
   "version": "3.5.4"
  }
 },
 "nbformat": 4,
 "nbformat_minor": 2
}
