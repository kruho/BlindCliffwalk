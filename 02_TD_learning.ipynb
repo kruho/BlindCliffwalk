{
 "cells": [
  {
   "cell_type": "markdown",
   "metadata": {},
   "source": [
    "# 環境の設定"
   ]
  },
  {
   "cell_type": "code",
   "execution_count": 16,
   "metadata": {
    "collapsed": true
   },
   "outputs": [],
   "source": [
    "from blindcliftwalk import BlindCliftwalk\n",
    "\n",
    "# ゴールまでの距離\n",
    "nb_step = 20\n",
    "\n",
    "# ゴールの数\n",
    "nb_goals = 3\n",
    "\n",
    "env = BlindCliftwalk(nb_step, nb_goals)"
   ]
  },
  {
   "cell_type": "code",
   "execution_count": 17,
   "metadata": {},
   "outputs": [
    {
     "data": {
      "text/plain": [
       "array([[2, 0, 0, 0, 0, 0, 0, 0, 0, 0, 0, 0, 0, 0, 0, 0, 0, 0, 0, 0],\n",
       "       [1, 1, 0, 0, 0, 0, 0, 0, 0, 0, 0, 0, 0, 0, 0, 0, 0, 0, 0, 0],\n",
       "       [1, 1, 1, 0, 0, 0, 0, 0, 0, 0, 0, 0, 0, 0, 0, 0, 0, 0, 0, 0],\n",
       "       [1, 1, 1, 0, 0, 0, 0, 0, 0, 0, 0, 0, 0, 0, 0, 0, 0, 0, 0, 0],\n",
       "       [0, 1, 1, 1, 0, 0, 0, 0, 0, 0, 0, 0, 0, 0, 0, 0, 0, 0, 0, 0],\n",
       "       [0, 1, 1, 1, 1, 0, 0, 0, 0, 0, 0, 0, 0, 0, 0, 0, 0, 0, 0, 0],\n",
       "       [0, 0, 1, 1, 1, 1, 0, 0, 0, 0, 0, 0, 0, 0, 0, 0, 0, 0, 0, 0],\n",
       "       [0, 0, 1, 1, 0, 1, 0, 0, 0, 0, 0, 0, 0, 0, 0, 0, 0, 0, 0, 0],\n",
       "       [0, 0, 1, 1, 0, 1, 1, 0, 0, 0, 0, 0, 0, 0, 0, 0, 0, 0, 0, 0],\n",
       "       [0, 0, 1, 1, 1, 0, 1, 0, 0, 0, 0, 0, 0, 0, 0, 0, 0, 0, 0, 0],\n",
       "       [0, 0, 0, 1, 1, 1, 1, 1, 0, 0, 0, 0, 0, 0, 0, 0, 0, 0, 0, 0],\n",
       "       [0, 0, 0, 1, 1, 1, 1, 1, 0, 0, 0, 0, 0, 0, 0, 0, 0, 0, 0, 0],\n",
       "       [0, 0, 0, 0, 0, 1, 1, 1, 0, 0, 0, 0, 0, 0, 0, 0, 0, 0, 0, 0],\n",
       "       [0, 0, 0, 0, 0, 0, 1, 3, 0, 0, 0, 0, 0, 0, 0, 0, 0, 0, 0, 0],\n",
       "       [0, 0, 0, 0, 0, 0, 3, 0, 0, 0, 0, 0, 0, 0, 0, 0, 0, 0, 0, 0],\n",
       "       [0, 0, 0, 0, 0, 0, 0, 0, 0, 0, 0, 0, 0, 0, 0, 0, 0, 0, 0, 0],\n",
       "       [0, 0, 0, 0, 0, 0, 0, 0, 0, 0, 0, 0, 0, 0, 0, 0, 0, 0, 0, 0],\n",
       "       [0, 0, 0, 0, 0, 0, 0, 0, 0, 0, 0, 0, 0, 0, 0, 0, 0, 0, 0, 0],\n",
       "       [0, 0, 0, 0, 0, 0, 0, 0, 0, 0, 0, 0, 0, 0, 0, 0, 0, 0, 0, 0],\n",
       "       [0, 0, 0, 0, 0, 0, 0, 0, 0, 0, 0, 0, 0, 0, 0, 0, 0, 0, 0, 0]])"
      ]
     },
     "execution_count": 17,
     "metadata": {},
     "output_type": "execute_result"
    }
   ],
   "source": [
    "env.set_ground_truth()\n",
    "env.ground_truth"
   ]
  },
  {
   "cell_type": "code",
   "execution_count": 18,
   "metadata": {},
   "outputs": [
    {
     "data": {
      "text/plain": [
       "<matplotlib.image.AxesImage at 0x1124532b0>"
      ]
     },
     "execution_count": 18,
     "metadata": {},
     "output_type": "execute_result"
    },
    {
     "data": {
      "image/png": "[encoded data removed]",
      "text/plain": [
       "<matplotlib.figure.Figure at 0x1122a3d68>"
      ]
     },
     "metadata": {},
     "output_type": "display_data"
    }
   ],
   "source": [
    "import matplotlib.pyplot as plt\n",
    "%matplotlib inline\n",
    "\n",
    "plt.imshow(env.ground_truth, 'rainbow', interpolation='nearest')\n",
    "#plt.savefig('ground_truth.png')"
   ]
  },
  {
   "cell_type": "markdown",
   "metadata": {},
   "source": [
    "# value functionをTD学習で学習する"
   ]
  },
  {
   "cell_type": "code",
   "execution_count": 19,
   "metadata": {},
   "outputs": [],
   "source": [
    "import numpy as np\n",
    "\n",
    "#  state value更新回数\n",
    "mc_step = 300000\n",
    "\n",
    "# 割引率\n",
    "gamma = 1. - 1. / float(nb_step)\n",
    "\n",
    "# 学習率\n",
    "learning_rate = 0.25\n",
    "\n",
    "# 考えうる状態の数はground_truthの大きさと同じ（もう少し小さいが、面倒なので同じとする）\n",
    "value_table = np.zeros_like(env.ground_truth, dtype=float)\n",
    "\n",
    "# ゴール到達後のstate valueの保存間隔\n",
    "save_interval = 1000"
   ]
  },
  {
   "cell_type": "code",
   "execution_count": 20,
   "metadata": {},
   "outputs": [
    {
     "name": "stderr",
     "output_type": "stream",
     "text": [
      "100%|██████████| 300000/300000 [00:13<00:00, 21857.19it/s]\n"
     ]
    }
   ],
   "source": [
    "from tqdm import tqdm\n",
    "\n",
    "stacked_value_table = []\n",
    "isSuccessed = False\n",
    "\n",
    "value_table = np.zeros_like(value_table) # state valueの初期化（念のためループ直前でも初期化する）\n",
    "try:\n",
    "    count = 0\n",
    "    for i in tqdm(range(mc_step)):\n",
    "        # 状態の初期化\n",
    "        current_state  = np.zeros(2, dtype=int)\n",
    "\n",
    "        status = 0\n",
    "        while status >= 0:\n",
    "            # 現在の報酬の計算\n",
    "            reward, status = env.get_reward(current_state)\n",
    "            \n",
    "            if status==1:\n",
    "                isSuccessed = True\n",
    "\n",
    "            if status>=0:\n",
    "                # ランダムな行動を取って次の状態を観測する（まだ遷移させない）。\n",
    "                action = env.random_action()\n",
    "                next_state = env.transition(current_state, action)\n",
    "\n",
    "                # TD誤差の計算\n",
    "                V_current = value_table[current_state[0], current_state[1]]\n",
    "                V_next = value_table[next_state[0], next_state[1]]\n",
    "                td_error = reward + gamma * V_next - V_current\n",
    "\n",
    "                # state valueの更新\n",
    "                value_table[current_state[0], current_state[1]] = V_current + learning_rate * td_error\n",
    "\n",
    "                # 状態の遷移（マス目の移動）\n",
    "                current_state = next_state\n",
    "                \n",
    "                if isSuccessed:\n",
    "                    count += 1\n",
    "                    if count==save_interval:\n",
    "                        stacked_value_table.append(np.copy(value_table))\n",
    "                        count = 0\n",
    "            \n",
    "except Exception:\n",
    "    pass"
   ]
  },
  {
   "cell_type": "markdown",
   "metadata": {},
   "source": [
    "# 学習過程の可視化\n",
    "- TD学習では一度ゴールまでたどり着くとその後常にstate valueが更新される。"
   ]
  },
  {
   "cell_type": "code",
   "execution_count": 21,
   "metadata": {},
   "outputs": [
    {
     "data": {
      "image/png": "[encoded data removed]",
      "text/plain": [
       "<matplotlib.figure.Figure at 0x112453b70>"
      ]
     },
     "metadata": {},
     "output_type": "display_data"
    }
   ],
   "source": [
    "plt.imshow(value_table, interpolation='nearest')\n",
    "plt.clim(0,1)"
   ]
  },
  {
   "cell_type": "code",
   "execution_count": 7,
   "metadata": {},
   "outputs": [
    {
     "data": {
      "text/plain": [
       "985"
      ]
     },
     "execution_count": 7,
     "metadata": {},
     "output_type": "execute_result"
    }
   ],
   "source": [
    "len(stacked_value_table)"
   ]
  },
  {
   "cell_type": "code",
   "execution_count": null,
   "metadata": {},
   "outputs": [],
   "source": [
    "if isSuccessed:\n",
    "    nb_show = 30\n",
    "    nb = 0\n",
    "    plt.figure(figsize=(10,10*int(len(stacked_value_table[:nb_show])+1)/5.))\n",
    "    for v in stacked_value_table[:nb_show]:\n",
    "        nb += 1\n",
    "        plt.subplot(int(len(stacked_value_table[:nb_show])+1),5,nb)\n",
    "        plt.imshow(v, interpolation='nearest')\n",
    "        plt.clim(0,1)"
   ]
  },
  {
   "cell_type": "code",
   "execution_count": null,
   "metadata": {},
   "outputs": [],
   "source": [
    "for i,v in enumerate(stacked_value_table):\n",
    "    plt.imshow(v, interpolation='nearest')\n",
    "    plt.clim(0,1)\n",
    "    plt.title('# of update '+str(i*save_interval).zfill(3))\n",
    "    plt.savefig('TD_iter_'+str(i).zfill(4)+'.png')\n",
    "    plt.show()"
   ]
  }
 ],
 "metadata": {
  "kernelspec": {
   "display_name": "Python [conda env:dl]",
   "language": "python",
   "name": "conda-env-dl-py"
  },
  "language_info": {
   "codemirror_mode": {
    "name": "ipython",
    "version": 3
   },
   "file_extension": ".py",
   "mimetype": "text/x-python",
   "name": "python",
   "nbconvert_exporter": "python",
   "pygments_lexer": "ipython3",
   "version": "3.6.3"
  }
 },
 "nbformat": 4,
 "nbformat_minor": 2
}
